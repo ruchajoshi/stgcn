{
 "cells": [
  {
   "cell_type": "code",
   "execution_count": 1,
   "id": "processed-martial",
   "metadata": {},
   "outputs": [
    {
     "output_type": "stream",
     "name": "stderr",
     "text": [
      "RDKit WARNING: [09:15:36] Enabling RDKit 2019.09.3 jupyter extensions\n"
     ]
    }
   ],
   "source": [
    "import pandas as pd\n",
    "import numpy as np\n",
    "\n",
    "import torch\n",
    "from torch_geometric.data import InMemoryDataset, Data"
   ]
  },
  {
   "cell_type": "code",
   "execution_count": 2,
   "id": "fresh-feeling",
   "metadata": {},
   "outputs": [],
   "source": [
    "class PeMSD7M(InMemoryDataset):\n",
    "    def __init__(self, root, transform=None, pre_transform=None, pre_filter=None):\n",
    "        super(PeMSD7M, self).__init__(root, transform, pre_transform, pre_filter)\n",
    "        \n",
    "        # load processed data\n",
    "        self.data, self.slices = torch.load(self.processed_paths[0])\n",
    "        \n",
    "    @property\n",
    "    def raw_file_names(self):\n",
    "        return ['V_228_modified.csv', 'W_228.csv']\n",
    "    \n",
    "    @property\n",
    "    def processed_file_names(self):\n",
    "        return ['data.pt']\n",
    "    \n",
    "    def process(self):\n",
    "        pemsd7_v = pd.read_csv(self.raw_paths[0], header=None)\n",
    "        pemsd7_w = pd.read_csv(self.raw_paths[1], header=None)\n",
    "        pemsd7_v = pemsd7_v.to_numpy()\n",
    "        pemsd7_w = pemsd7_w.to_numpy()\n",
    "        data_list = []\n",
    "        \n",
    "        nodes = torch.tensor([i for i in range(228)],\n",
    "                     dtype=torch.float).unsqueeze(1)\n",
    "        \n",
    "        edge_index = torch.tensor([[j, i] for j in range(228) for i in range(228) if i!=j],\n",
    "                   dtype=torch.long)\n",
    "        \n",
    "        edge_weight = []\n",
    "        for k in edge_index:\n",
    "            i, j = k\n",
    "            edge_weight = np.append(edge_weight, pemsd7_w[i, j])\n",
    "        edge_weight = torch.tensor(edge_weight, dtype=torch.float).unsqueeze(1)\n",
    "        print('In process')\n",
    "        length = pemsd7_v.shape[0]\n",
    "        for i in range(length):\n",
    "            node_feature = torch.tensor(pemsd7_v[i], dtype=torch.float).unsqueeze(1)\n",
    "            data = Data(x=node_feature,\n",
    "                        edge_index = edge_index.T,\n",
    "                        edge_weight = edge_weight)\n",
    "            data_list.append(data)\n",
    "        print('In process 2')\n",
    "        print(len(data_list))\n",
    "        self.data, self.slices = self.collate(data_list[0:2880])\n",
    "        print('In process 3')\n",
    "        torch.save((self.data, self.slices), self.processed_paths[0])\n",
    "        print('In process 4')"
   ]
  },
  {
   "cell_type": "code",
   "execution_count": 3,
   "id": "valuable-border",
   "metadata": {
    "scrolled": true
   },
   "outputs": [],
   "source": [
    "traffic = PeMSD7M(root='./data/PeMS-M/')"
   ]
  },
  {
   "cell_type": "code",
   "execution_count": 4,
   "id": "capable-boating",
   "metadata": {},
   "outputs": [
    {
     "output_type": "execute_result",
     "data": {
      "text/plain": [
       "PeMSD7M(2880)"
      ]
     },
     "metadata": {},
     "execution_count": 4
    }
   ],
   "source": [
    "traffic"
   ]
  },
  {
   "cell_type": "code",
   "execution_count": 5,
   "id": "soviet-proposal",
   "metadata": {},
   "outputs": [],
   "source": [
    "# import networkx as nx\n",
    "# from torch_geometric import utils\n",
    "\n",
    "# G = utils.to_networkx(traffic[0])\n",
    "# nx.draw(G)"
   ]
  },
  {
   "cell_type": "code",
   "execution_count": 30,
   "id": "seventh-boulder",
   "metadata": {},
   "outputs": [],
   "source": [
    "from data_utils import describe_data, load_data\n",
    "from layer import TemporalConvGLU, SpatialConv"
   ]
  },
  {
   "cell_type": "markdown",
   "id": "intensive-stevens",
   "metadata": {},
   "source": [
    "# Loading data"
   ]
  },
  {
   "cell_type": "code",
   "execution_count": 7,
   "id": "present-recall",
   "metadata": {},
   "outputs": [
    {
     "output_type": "stream",
     "name": "stdout",
     "text": [
      "\nDataset: PeMSD7M(2880):\n==================\nNumber of graphs: 2880\nNumber of features: 1\n\nData(edge_index=[2, 51756], edge_weight=[51756, 1], x=[228, 1])\n===============================================================================================================\nNumber of nodes: 228\nNumber of edges: 51756\nAverage node degree: 227.00\nContains isolated nodes: False\nContains self-loops: False\nIs undirected: True\n28\n187 24 30\nData Loading Complete!\n187 24 30\n"
     ]
    }
   ],
   "source": [
    "describe_data(traffic)\n",
    "train, val, test = load_data(traffic)\n",
    "print('Data Loading Complete!')\n",
    "print(len(train), len(val), len(test))"
   ]
  },
  {
   "cell_type": "code",
   "execution_count": 8,
   "id": "approved-learning",
   "metadata": {},
   "outputs": [
    {
     "output_type": "stream",
     "name": "stdout",
     "text": [
      "<torch_geometric.data.dataloader.DataLoader object at 0x7fcd0a78a5e0>\n"
     ]
    }
   ],
   "source": [
    "print(train)"
   ]
  },
  {
   "cell_type": "code",
   "execution_count": 9,
   "id": "dependent-pepper",
   "metadata": {},
   "outputs": [
    {
     "output_type": "stream",
     "name": "stdout",
     "text": [
      "0 batch torch.Size([])\n\n1 edge_index torch.Size([621072])\n\n2 edge_weight torch.Size([1])\n\n3 x torch.Size([1])\n\n"
     ]
    }
   ],
   "source": [
    "for batch in train:\n",
    "    for i, j in enumerate(batch):\n",
    "        print(i, j[0], j[1][1].shape)\n",
    "        print()\n",
    "    break"
   ]
  },
  {
   "cell_type": "code",
   "execution_count": 10,
   "id": "general-translator",
   "metadata": {},
   "outputs": [
    {
     "output_type": "stream",
     "name": "stdout",
     "text": [
      "torch.Size([2736, 1])\n"
     ]
    }
   ],
   "source": [
    "for batch in train:\n",
    "    print(batch.x.shape)\n",
    "    break"
   ]
  },
  {
   "cell_type": "code",
   "execution_count": 11,
   "id": "graphic-friendship",
   "metadata": {},
   "outputs": [],
   "source": [
    "from torch_geometric.nn import GCNConv\n",
    "\n",
    "model = GCNConv(in_channels=1, out_channels=1)"
   ]
  },
  {
   "cell_type": "code",
   "execution_count": 49,
   "id": "careful-rebecca",
   "metadata": {},
   "outputs": [
    {
     "output_type": "stream",
     "name": "stdout",
     "text": [
      "torch.Size([228, 1]) torch.Size([2, 51756])\ntorch.Size([2736, 1]) torch.Size([2, 621072])\ntorch.Size([2736, 1])\n"
     ]
    }
   ],
   "source": [
    "print(traffic[63].x.shape, traffic[63].edge_index.shape)\n",
    "# out = model(x=traffic[63].x, edge_index=traffic[63].edge_index)\n",
    "print(batch.x.shape, batch.edge_index.shape)\n",
    "out = model(x=batch.x, edge_index=batch.edge_index)\n",
    "print(out.shape)"
   ]
  },
  {
   "cell_type": "code",
   "execution_count": 13,
   "id": "cordless-immunology",
   "metadata": {
    "scrolled": true
   },
   "outputs": [
    {
     "output_type": "execute_result",
     "data": {
      "text/plain": [
       "tensor([[-35.6974],\n",
       "        [-35.6974],\n",
       "        [-35.6974],\n",
       "        [-35.6974],\n",
       "        [-35.6974],\n",
       "        [-35.6974],\n",
       "        [-35.6974],\n",
       "        [-35.6974],\n",
       "        [-35.6974],\n",
       "        [-35.6974],\n",
       "        [-35.6974],\n",
       "        [-35.6974],\n",
       "        [-35.6974],\n",
       "        [-35.6974],\n",
       "        [-35.6974],\n",
       "        [-35.6974],\n",
       "        [-35.6974],\n",
       "        [-35.6974],\n",
       "        [-35.6974],\n",
       "        [-35.6974],\n",
       "        [-35.6974],\n",
       "        [-35.6974],\n",
       "        [-35.6974],\n",
       "        [-35.6974],\n",
       "        [-35.6974],\n",
       "        [-35.6974],\n",
       "        [-35.6974],\n",
       "        [-35.6974],\n",
       "        [-35.6974],\n",
       "        [-35.6974],\n",
       "        [-35.6974],\n",
       "        [-35.6974],\n",
       "        [-35.6974],\n",
       "        [-35.6974],\n",
       "        [-35.6974],\n",
       "        [-35.6974],\n",
       "        [-35.6974],\n",
       "        [-35.6974],\n",
       "        [-35.6974],\n",
       "        [-35.6974],\n",
       "        [-35.6974],\n",
       "        [-35.6974],\n",
       "        [-35.6974],\n",
       "        [-35.6974],\n",
       "        [-35.6974],\n",
       "        [-35.6974],\n",
       "        [-35.6974],\n",
       "        [-35.6974],\n",
       "        [-35.6974],\n",
       "        [-35.6974],\n",
       "        [-35.6974],\n",
       "        [-35.6974],\n",
       "        [-35.6974],\n",
       "        [-35.6974],\n",
       "        [-35.6974],\n",
       "        [-35.6974],\n",
       "        [-35.6974],\n",
       "        [-35.6974],\n",
       "        [-35.6974],\n",
       "        [-35.6974],\n",
       "        [-35.6974],\n",
       "        [-35.6974],\n",
       "        [-35.6974],\n",
       "        [-35.6974],\n",
       "        [-35.6974],\n",
       "        [-35.6974],\n",
       "        [-35.6974],\n",
       "        [-35.6974],\n",
       "        [-35.6974],\n",
       "        [-35.6974],\n",
       "        [-35.6974],\n",
       "        [-35.6974],\n",
       "        [-35.6974],\n",
       "        [-35.6974],\n",
       "        [-35.6974],\n",
       "        [-35.6974],\n",
       "        [-35.6974],\n",
       "        [-35.6974],\n",
       "        [-35.6974],\n",
       "        [-35.6974],\n",
       "        [-35.6974],\n",
       "        [-35.6974],\n",
       "        [-35.6974],\n",
       "        [-35.6974],\n",
       "        [-35.6974],\n",
       "        [-35.6974],\n",
       "        [-35.6974],\n",
       "        [-35.6974],\n",
       "        [-35.6974],\n",
       "        [-35.6974],\n",
       "        [-35.6974],\n",
       "        [-35.6974],\n",
       "        [-35.6974],\n",
       "        [-35.6974],\n",
       "        [-35.6974],\n",
       "        [-35.6974],\n",
       "        [-35.6974],\n",
       "        [-35.6974],\n",
       "        [-35.6974],\n",
       "        [-35.6974],\n",
       "        [-35.6974],\n",
       "        [-35.6974],\n",
       "        [-35.6974],\n",
       "        [-35.6974],\n",
       "        [-35.6974],\n",
       "        [-35.6974],\n",
       "        [-35.6974],\n",
       "        [-35.6974],\n",
       "        [-35.6974],\n",
       "        [-35.6974],\n",
       "        [-35.6974],\n",
       "        [-35.6974],\n",
       "        [-35.6974],\n",
       "        [-35.6974],\n",
       "        [-35.6974],\n",
       "        [-35.6974],\n",
       "        [-35.6974],\n",
       "        [-35.6974],\n",
       "        [-35.6974],\n",
       "        [-35.6974],\n",
       "        [-35.6974],\n",
       "        [-35.6974],\n",
       "        [-35.6974],\n",
       "        [-35.6974],\n",
       "        [-35.6974],\n",
       "        [-35.6974],\n",
       "        [-35.6974],\n",
       "        [-35.6974],\n",
       "        [-35.6974],\n",
       "        [-35.6974],\n",
       "        [-35.6974],\n",
       "        [-35.6974],\n",
       "        [-35.6974],\n",
       "        [-35.6974],\n",
       "        [-35.6974],\n",
       "        [-35.6974],\n",
       "        [-35.6974],\n",
       "        [-35.6974],\n",
       "        [-35.6974],\n",
       "        [-35.6974],\n",
       "        [-35.6974],\n",
       "        [-35.6974],\n",
       "        [-35.6974],\n",
       "        [-35.6974],\n",
       "        [-35.6974],\n",
       "        [-35.6974],\n",
       "        [-35.6974],\n",
       "        [-35.6974],\n",
       "        [-35.6974],\n",
       "        [-35.6974],\n",
       "        [-35.6974],\n",
       "        [-35.6974],\n",
       "        [-35.6974],\n",
       "        [-35.6974],\n",
       "        [-35.6974],\n",
       "        [-35.6974],\n",
       "        [-35.6974],\n",
       "        [-35.6974],\n",
       "        [-35.6974],\n",
       "        [-35.6974],\n",
       "        [-35.6974],\n",
       "        [-35.6974],\n",
       "        [-35.6974],\n",
       "        [-35.6974],\n",
       "        [-35.6974],\n",
       "        [-35.6974],\n",
       "        [-35.6974],\n",
       "        [-35.6974],\n",
       "        [-35.6974],\n",
       "        [-35.6974],\n",
       "        [-35.6974],\n",
       "        [-35.6974],\n",
       "        [-35.6974],\n",
       "        [-35.6974],\n",
       "        [-35.6974],\n",
       "        [-35.6974],\n",
       "        [-35.6974],\n",
       "        [-35.6974],\n",
       "        [-35.6974],\n",
       "        [-35.6974],\n",
       "        [-35.6974],\n",
       "        [-35.6974],\n",
       "        [-35.6974],\n",
       "        [-35.6974],\n",
       "        [-35.6974],\n",
       "        [-35.6974],\n",
       "        [-35.6974],\n",
       "        [-35.6974],\n",
       "        [-35.6974],\n",
       "        [-35.6974],\n",
       "        [-35.6974],\n",
       "        [-35.6974],\n",
       "        [-35.6974],\n",
       "        [-35.6974],\n",
       "        [-35.6974],\n",
       "        [-35.6974],\n",
       "        [-35.6974],\n",
       "        [-35.6974],\n",
       "        [-35.6974],\n",
       "        [-35.6974],\n",
       "        [-35.6974],\n",
       "        [-35.6974],\n",
       "        [-35.6974],\n",
       "        [-35.6974],\n",
       "        [-35.6974],\n",
       "        [-35.6974],\n",
       "        [-35.6974],\n",
       "        [-35.6974],\n",
       "        [-35.6974],\n",
       "        [-35.6974],\n",
       "        [-35.6974],\n",
       "        [-35.6974],\n",
       "        [-35.6974],\n",
       "        [-35.6974],\n",
       "        [-35.6974],\n",
       "        [-35.6974],\n",
       "        [-35.6974],\n",
       "        [-35.6974],\n",
       "        [-35.6974],\n",
       "        [-35.6974],\n",
       "        [-35.6974],\n",
       "        [-35.6974],\n",
       "        [-35.6974],\n",
       "        [-35.6974],\n",
       "        [-35.6974],\n",
       "        [-35.6974],\n",
       "        [-35.6974],\n",
       "        [-35.6974]], grad_fn=<AddBackward0>)"
      ]
     },
     "metadata": {},
     "execution_count": 13
    }
   ],
   "source": [
    "out"
   ]
  },
  {
   "cell_type": "code",
   "execution_count": 14,
   "id": "military-passing",
   "metadata": {
    "scrolled": true
   },
   "outputs": [
    {
     "output_type": "execute_result",
     "data": {
      "text/plain": [
       "torch.Size([228, 1])"
      ]
     },
     "metadata": {},
     "execution_count": 14
    }
   ],
   "source": [
    "batch.x[:228].shape"
   ]
  },
  {
   "cell_type": "code",
   "execution_count": 25,
   "metadata": {},
   "outputs": [],
   "source": [
    "import torch.nn as nn"
   ]
  },
  {
   "cell_type": "code",
   "execution_count": 36,
   "id": "enclosed-essex",
   "metadata": {},
   "outputs": [],
   "source": [
    "def TemporalConv1(x, K_t=3, c_in=1, c_out=2):\n",
    "    '''\n",
    "    location = layers.py\n",
    "    x : input list of 'Data' objects.\n",
    "    K_t: temporal kernel size = 3\n",
    "    c_in: input channels\n",
    "    c_out: output channels\n",
    "    '''\n",
    "    # num_nodes = x[0].num_nodes\n",
    "    # node_feature_list = []\n",
    "\n",
    "    # for graph in range(len(x)):\n",
    "    #     node_feature_list.append(x[graph].node_feature)\n",
    "\n",
    "    # node_feature_tensor = torch.stack(node_feature_list)\n",
    "    # node_feature_tensor = node_feature_tensor.permute(1, 2, 0)\n",
    "    # node_feature_tensor is now of shape [228, 1, 12]; ready for Conv1d\n",
    "    print(x.shape)\n",
    "    x = x.view(228, 1, 12)\n",
    "    print(x.shape)\n",
    "    conv1d = nn.Conv1d(c_in, c_out, K_t)\n",
    "    # expected (1, 1, 3)\n",
    "    return conv1d(x)"
   ]
  },
  {
   "cell_type": "code",
   "execution_count": 39,
   "metadata": {},
   "outputs": [
    {
     "output_type": "error",
     "ename": "RuntimeError",
     "evalue": "Expected 3-dimensional input for 3-dimensional weight [1, 1, 3], but got 2-dimensional input of size [2736, 1] instead",
     "traceback": [
      "\u001b[0;31m---------------------------------------------------------------------------\u001b[0m",
      "\u001b[0;31mRuntimeError\u001b[0m                              Traceback (most recent call last)",
      "\u001b[0;32m<ipython-input-39-4b7608b21696>\u001b[0m in \u001b[0;36m<module>\u001b[0;34m\u001b[0m\n\u001b[0;32m----> 1\u001b[0;31m \u001b[0mout\u001b[0m \u001b[0;34m=\u001b[0m \u001b[0mTemporalConv\u001b[0m\u001b[0;34m(\u001b[0m\u001b[0mx\u001b[0m\u001b[0;34m=\u001b[0m\u001b[0mbatch\u001b[0m\u001b[0;34m.\u001b[0m\u001b[0mx\u001b[0m\u001b[0;34m,\u001b[0m\u001b[0mK_t\u001b[0m\u001b[0;34m=\u001b[0m\u001b[0;36m3\u001b[0m\u001b[0;34m,\u001b[0m \u001b[0mc_in\u001b[0m\u001b[0;34m=\u001b[0m\u001b[0;36m1\u001b[0m\u001b[0;34m,\u001b[0m \u001b[0mc_out\u001b[0m\u001b[0;34m=\u001b[0m\u001b[0;36m1\u001b[0m\u001b[0;34m)\u001b[0m\u001b[0;34m\u001b[0m\u001b[0;34m\u001b[0m\u001b[0m\n\u001b[0m",
      "\u001b[0;32m~/Implementations/STGNN/STGCN/layer.py\u001b[0m in \u001b[0;36mTemporalConv\u001b[0;34m(x, K_t, c_in, c_out)\u001b[0m\n\u001b[1;32m     28\u001b[0m     \u001b[0mx\u001b[0m \u001b[0;34m=\u001b[0m \u001b[0mx\u001b[0m\u001b[0;34m.\u001b[0m\u001b[0mview\u001b[0m\u001b[0;34m(\u001b[0m\u001b[0;36m228\u001b[0m\u001b[0;34m,\u001b[0m \u001b[0;36m1\u001b[0m\u001b[0;34m,\u001b[0m \u001b[0;36m12\u001b[0m\u001b[0;34m)\u001b[0m\u001b[0;34m\u001b[0m\u001b[0;34m\u001b[0m\u001b[0m\n\u001b[1;32m     29\u001b[0m     \u001b[0mprint\u001b[0m\u001b[0;34m(\u001b[0m\u001b[0mx\u001b[0m\u001b[0;34m.\u001b[0m\u001b[0mshape\u001b[0m\u001b[0;34m)\u001b[0m\u001b[0;34m\u001b[0m\u001b[0;34m\u001b[0m\u001b[0m\n\u001b[0;32m---> 30\u001b[0;31m     \u001b[0mconv1d\u001b[0m \u001b[0;34m=\u001b[0m \u001b[0mnn\u001b[0m\u001b[0;34m.\u001b[0m\u001b[0mConv1d\u001b[0m\u001b[0;34m(\u001b[0m\u001b[0mc_in\u001b[0m\u001b[0;34m,\u001b[0m \u001b[0mc_out\u001b[0m\u001b[0;34m,\u001b[0m \u001b[0mK_t\u001b[0m\u001b[0;34m)\u001b[0m\u001b[0;34m\u001b[0m\u001b[0;34m\u001b[0m\u001b[0m\n\u001b[0m\u001b[1;32m     31\u001b[0m     \u001b[0;31m# expected (1, 1, 3)\u001b[0m\u001b[0;34m\u001b[0m\u001b[0;34m\u001b[0m\u001b[0;34m\u001b[0m\u001b[0m\n\u001b[1;32m     32\u001b[0m     \u001b[0;32mreturn\u001b[0m \u001b[0mconv1d\u001b[0m\u001b[0;34m(\u001b[0m\u001b[0mx\u001b[0m\u001b[0;34m)\u001b[0m\u001b[0;34m\u001b[0m\u001b[0;34m\u001b[0m\u001b[0m\n",
      "\u001b[0;32m~/anaconda3/envs/pygeo/lib/python3.8/site-packages/torch/nn/modules/module.py\u001b[0m in \u001b[0;36m_call_impl\u001b[0;34m(self, *input, **kwargs)\u001b[0m\n\u001b[1;32m    725\u001b[0m             \u001b[0mresult\u001b[0m \u001b[0;34m=\u001b[0m \u001b[0mself\u001b[0m\u001b[0;34m.\u001b[0m\u001b[0m_slow_forward\u001b[0m\u001b[0;34m(\u001b[0m\u001b[0;34m*\u001b[0m\u001b[0minput\u001b[0m\u001b[0;34m,\u001b[0m \u001b[0;34m**\u001b[0m\u001b[0mkwargs\u001b[0m\u001b[0;34m)\u001b[0m\u001b[0;34m\u001b[0m\u001b[0;34m\u001b[0m\u001b[0m\n\u001b[1;32m    726\u001b[0m         \u001b[0;32melse\u001b[0m\u001b[0;34m:\u001b[0m\u001b[0;34m\u001b[0m\u001b[0;34m\u001b[0m\u001b[0m\n\u001b[0;32m--> 727\u001b[0;31m             \u001b[0mresult\u001b[0m \u001b[0;34m=\u001b[0m \u001b[0mself\u001b[0m\u001b[0;34m.\u001b[0m\u001b[0mforward\u001b[0m\u001b[0;34m(\u001b[0m\u001b[0;34m*\u001b[0m\u001b[0minput\u001b[0m\u001b[0;34m,\u001b[0m \u001b[0;34m**\u001b[0m\u001b[0mkwargs\u001b[0m\u001b[0;34m)\u001b[0m\u001b[0;34m\u001b[0m\u001b[0;34m\u001b[0m\u001b[0m\n\u001b[0m\u001b[1;32m    728\u001b[0m         for hook in itertools.chain(\n\u001b[1;32m    729\u001b[0m                 \u001b[0m_global_forward_hooks\u001b[0m\u001b[0;34m.\u001b[0m\u001b[0mvalues\u001b[0m\u001b[0;34m(\u001b[0m\u001b[0;34m)\u001b[0m\u001b[0;34m,\u001b[0m\u001b[0;34m\u001b[0m\u001b[0;34m\u001b[0m\u001b[0m\n",
      "\u001b[0;32m~/anaconda3/envs/pygeo/lib/python3.8/site-packages/torch/nn/modules/conv.py\u001b[0m in \u001b[0;36mforward\u001b[0;34m(self, input)\u001b[0m\n\u001b[1;32m    256\u001b[0m                             \u001b[0mself\u001b[0m\u001b[0;34m.\u001b[0m\u001b[0mweight\u001b[0m\u001b[0;34m,\u001b[0m \u001b[0mself\u001b[0m\u001b[0;34m.\u001b[0m\u001b[0mbias\u001b[0m\u001b[0;34m,\u001b[0m \u001b[0mself\u001b[0m\u001b[0;34m.\u001b[0m\u001b[0mstride\u001b[0m\u001b[0;34m,\u001b[0m\u001b[0;34m\u001b[0m\u001b[0;34m\u001b[0m\u001b[0m\n\u001b[1;32m    257\u001b[0m                             _single(0), self.dilation, self.groups)\n\u001b[0;32m--> 258\u001b[0;31m         return F.conv1d(input, self.weight, self.bias, self.stride,\n\u001b[0m\u001b[1;32m    259\u001b[0m                         self.padding, self.dilation, self.groups)\n\u001b[1;32m    260\u001b[0m \u001b[0;34m\u001b[0m\u001b[0m\n",
      "\u001b[0;31mRuntimeError\u001b[0m: Expected 3-dimensional input for 3-dimensional weight [1, 1, 3], but got 2-dimensional input of size [2736, 1] instead"
     ]
    }
   ],
   "source": [
    "out = TemporalConv(x=batch.x,K_t=3, c_in=1, c_out=1)"
   ]
  },
  {
   "cell_type": "code",
   "execution_count": 28,
   "metadata": {},
   "outputs": [
    {
     "output_type": "execute_result",
     "data": {
      "text/plain": [
       "tensor([[[-32.3723, -31.6099, -32.0310,  ..., -31.5583, -21.3986, -32.1188]],\n",
       "\n",
       "        [[-33.8266, -31.2941, -33.7482,  ..., -32.2624, -33.8605, -33.9300]],\n",
       "\n",
       "        [[-31.9613, -33.6791, -31.9438,  ..., -32.1032, -34.1020, -33.2194]],\n",
       "\n",
       "        ...,\n",
       "\n",
       "        [[-31.0930, -34.6027, -31.2607,  ..., -32.0144, -33.8522, -31.9044]],\n",
       "\n",
       "        [[-31.4580, -31.7770, -32.8877,  ..., -31.5841, -31.6563, -32.9259]],\n",
       "\n",
       "        [[-32.5528, -32.4739, -34.0157,  ..., -30.7514, -30.1212, -30.4551]]],\n",
       "       grad_fn=<SqueezeBackward1>)"
      ]
     },
     "metadata": {},
     "execution_count": 28
    }
   ],
   "source": [
    "out"
   ]
  },
  {
   "cell_type": "code",
   "execution_count": 42,
   "metadata": {},
   "outputs": [],
   "source": [
    "from layers import TemporalConvGLU"
   ]
  },
  {
   "cell_type": "code",
   "execution_count": 44,
   "id": "intense-perfume",
   "metadata": {},
   "outputs": [
    {
     "output_type": "stream",
     "name": "stdout",
     "text": [
      "torch.Size([2736, 1])\ntorch.Size([228, 1, 12])\n"
     ]
    },
    {
     "output_type": "error",
     "ename": "AttributeError",
     "evalue": "module 'torch.functional' has no attribute 'glu'",
     "traceback": [
      "\u001b[0;31m---------------------------------------------------------------------------\u001b[0m",
      "\u001b[0;31mAttributeError\u001b[0m                            Traceback (most recent call last)",
      "\u001b[0;32m<ipython-input-44-5ecb7cbe4f7f>\u001b[0m in \u001b[0;36m<module>\u001b[0;34m\u001b[0m\n\u001b[0;32m----> 1\u001b[0;31m \u001b[0mtemp1\u001b[0m \u001b[0;34m=\u001b[0m \u001b[0mTemporalConvGLU\u001b[0m\u001b[0;34m(\u001b[0m\u001b[0mx\u001b[0m\u001b[0;34m=\u001b[0m\u001b[0mbatch\u001b[0m\u001b[0;34m.\u001b[0m\u001b[0mx\u001b[0m\u001b[0;34m,\u001b[0m\u001b[0mK_t\u001b[0m\u001b[0;34m=\u001b[0m\u001b[0;36m3\u001b[0m\u001b[0;34m,\u001b[0m \u001b[0mc_in\u001b[0m\u001b[0;34m=\u001b[0m\u001b[0;36m1\u001b[0m\u001b[0;34m,\u001b[0m \u001b[0mc_out\u001b[0m\u001b[0;34m=\u001b[0m\u001b[0;36m1\u001b[0m\u001b[0;34m)\u001b[0m\u001b[0;34m\u001b[0m\u001b[0;34m\u001b[0m\u001b[0m\n\u001b[0m\u001b[1;32m      2\u001b[0m \u001b[0;31m# spat1 = SpatialConv(K_s=1, c_in=1, c_out=1)\u001b[0m\u001b[0;34m\u001b[0m\u001b[0;34m\u001b[0m\u001b[0;34m\u001b[0m\u001b[0m\n\u001b[1;32m      3\u001b[0m \u001b[0;31m# temp2 = TemporalConvGLU(K_t=3, c_in=1, c_out=1)\u001b[0m\u001b[0;34m\u001b[0m\u001b[0;34m\u001b[0m\u001b[0;34m\u001b[0m\u001b[0m\n",
      "\u001b[0;32m~/Implementations/STGNN/STGCN/layers.py\u001b[0m in \u001b[0;36mTemporalConvGLU\u001b[0;34m(x, K_t, c_in, c_out)\u001b[0m\n\u001b[1;32m     40\u001b[0m     \u001b[0mprint\u001b[0m\u001b[0;34m(\u001b[0m\u001b[0mx\u001b[0m\u001b[0;34m.\u001b[0m\u001b[0mshape\u001b[0m\u001b[0;34m)\u001b[0m\u001b[0;34m\u001b[0m\u001b[0;34m\u001b[0m\u001b[0m\n\u001b[1;32m     41\u001b[0m     \u001b[0mout\u001b[0m \u001b[0;34m=\u001b[0m \u001b[0mTemporalConv\u001b[0m\u001b[0;34m(\u001b[0m\u001b[0mx\u001b[0m\u001b[0;34m,\u001b[0m \u001b[0mK_t\u001b[0m\u001b[0;34m=\u001b[0m\u001b[0mK_t\u001b[0m\u001b[0;34m,\u001b[0m \u001b[0mc_in\u001b[0m\u001b[0;34m=\u001b[0m\u001b[0mc_in\u001b[0m\u001b[0;34m,\u001b[0m \u001b[0mc_out\u001b[0m\u001b[0;34m=\u001b[0m\u001b[0mc_out\u001b[0m\u001b[0;34m)\u001b[0m\u001b[0;34m\u001b[0m\u001b[0;34m\u001b[0m\u001b[0m\n\u001b[0;32m---> 42\u001b[0;31m     \u001b[0mout\u001b[0m \u001b[0;34m=\u001b[0m \u001b[0mGLU\u001b[0m\u001b[0;34m(\u001b[0m\u001b[0mout\u001b[0m\u001b[0;34m)\u001b[0m\u001b[0;34m\u001b[0m\u001b[0;34m\u001b[0m\u001b[0m\n\u001b[0m\u001b[1;32m     43\u001b[0m     \u001b[0;32mreturn\u001b[0m \u001b[0mout\u001b[0m\u001b[0;34m\u001b[0m\u001b[0;34m\u001b[0m\u001b[0m\n\u001b[1;32m     44\u001b[0m \u001b[0;34m\u001b[0m\u001b[0m\n",
      "\u001b[0;32m~/Implementations/STGNN/STGCN/layers.py\u001b[0m in \u001b[0;36mGLU\u001b[0;34m(x)\u001b[0m\n\u001b[1;32m     33\u001b[0m \u001b[0;34m\u001b[0m\u001b[0m\n\u001b[1;32m     34\u001b[0m \u001b[0;32mdef\u001b[0m \u001b[0mGLU\u001b[0m\u001b[0;34m(\u001b[0m\u001b[0mx\u001b[0m\u001b[0;34m)\u001b[0m\u001b[0;34m:\u001b[0m\u001b[0;34m\u001b[0m\u001b[0;34m\u001b[0m\u001b[0m\n\u001b[0;32m---> 35\u001b[0;31m     \u001b[0;32mreturn\u001b[0m \u001b[0mF\u001b[0m\u001b[0;34m.\u001b[0m\u001b[0mglu\u001b[0m\u001b[0;34m(\u001b[0m\u001b[0mx\u001b[0m\u001b[0;34m,\u001b[0m \u001b[0;36m1\u001b[0m\u001b[0;34m)\u001b[0m\u001b[0;34m\u001b[0m\u001b[0;34m\u001b[0m\u001b[0m\n\u001b[0m\u001b[1;32m     36\u001b[0m \u001b[0;34m\u001b[0m\u001b[0m\n\u001b[1;32m     37\u001b[0m \u001b[0;32mdef\u001b[0m \u001b[0mTemporalConvGLU\u001b[0m\u001b[0;34m(\u001b[0m\u001b[0mx\u001b[0m\u001b[0;34m,\u001b[0m \u001b[0mK_t\u001b[0m\u001b[0;34m=\u001b[0m\u001b[0;36m3\u001b[0m\u001b[0;34m,\u001b[0m \u001b[0mc_in\u001b[0m\u001b[0;34m=\u001b[0m\u001b[0;36m1\u001b[0m\u001b[0;34m,\u001b[0m \u001b[0mc_out\u001b[0m\u001b[0;34m=\u001b[0m\u001b[0;36m1\u001b[0m\u001b[0;34m)\u001b[0m\u001b[0;34m:\u001b[0m\u001b[0;34m\u001b[0m\u001b[0;34m\u001b[0m\u001b[0m\n",
      "\u001b[0;31mAttributeError\u001b[0m: module 'torch.functional' has no attribute 'glu'"
     ]
    }
   ],
   "source": [
    "temp1 = TemporalConvGLU(x=batch.x,K_t=3, c_in=1, c_out=1)\n",
    "# spat1 = SpatialConv(K_s=1, c_in=1, c_out=1)\n",
    "# temp2 = TemporalConvGLU(K_t=3, c_in=1, c_out=1)"
   ]
  },
  {
   "cell_type": "code",
   "execution_count": null,
   "metadata": {},
   "outputs": [],
   "source": []
  }
 ],
 "metadata": {
  "kernelspec": {
   "display_name": "Python 3",
   "language": "python",
   "name": "python3"
  },
  "language_info": {
   "codemirror_mode": {
    "name": "ipython",
    "version": 3
   },
   "file_extension": ".py",
   "mimetype": "text/x-python",
   "name": "python",
   "nbconvert_exporter": "python",
   "pygments_lexer": "ipython3",
   "version": "3.8.5-final"
  }
 },
 "nbformat": 4,
 "nbformat_minor": 5
}